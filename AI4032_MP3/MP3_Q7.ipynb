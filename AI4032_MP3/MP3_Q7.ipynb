{
  "nbformat": 4,
  "nbformat_minor": 0,
  "metadata": {
    "colab": {
      "provenance": [],
      "include_colab_link": true
    },
    "kernelspec": {
      "name": "python3",
      "display_name": "Python 3"
    },
    "language_info": {
      "name": "python"
    }
  },
  "cells": [
    {
      "cell_type": "markdown",
      "metadata": {
        "id": "view-in-github",
        "colab_type": "text"
      },
      "source": [
        "<a href=\"https://colab.research.google.com/github/DianaDoosti/Introduction_to_AI_2025/blob/main/AI4032_MP3/MP3_Q7.ipynb\" target=\"_parent\"><img src=\"https://colab.research.google.com/assets/colab-badge.svg\" alt=\"Open In Colab\"/></a>"
      ]
    },
    {
      "cell_type": "markdown",
      "source": [
        "## Step 1: Downloading and Loading the Pima Indians Diabetes Dataset\n",
        "\n",
        "\n"
      ],
      "metadata": {
        "id": "Kpa11s7VC1OE"
      }
    },
    {
      "cell_type": "code",
      "execution_count": null,
      "metadata": {
        "colab": {
          "base_uri": "https://localhost:8080/"
        },
        "id": "CLcSrvH0kNPa",
        "outputId": "dd12a8a0-6939-4572-fc1b-62a5e6ae3a9d"
      },
      "outputs": [
        {
          "output_type": "stream",
          "name": "stderr",
          "text": [
            "Downloading...\n",
            "From: https://drive.google.com/uc?id=17OoVzG1O6H_RuTwDHLeKbY7MiL9cLpSo\n",
            "To: /content/diabetes.csv\n",
            "100%|██████████| 23.9k/23.9k [00:00<00:00, 37.3MB/s]\n"
          ]
        }
      ],
      "source": [
        "import gdown\n",
        "import pandas as pd\n",
        "\n",
        "# Google Drive file ID\n",
        "file_id = \"17OoVzG1O6H_RuTwDHLeKbY7MiL9cLpSo\"\n",
        "\n",
        "# Construct URL for gdown\n",
        "url = f\"https://drive.google.com/uc?id={file_id}\"\n",
        "\n",
        "# Download the file as 'diabetes.csv'\n",
        "output = \"diabetes.csv\"\n",
        "gdown.download(url, output, quiet=False)\n",
        "\n",
        "# Load the CSV into a DataFrame\n",
        "df = pd.read_csv(output)\n"
      ]
    },
    {
      "cell_type": "code",
      "source": [
        "# Show the first few rows\n",
        "print(df.head())"
      ],
      "metadata": {
        "colab": {
          "base_uri": "https://localhost:8080/"
        },
        "id": "Atmu3C63xyGQ",
        "outputId": "b266ec47-875e-4974-ef08-3251cf585aa4"
      },
      "execution_count": null,
      "outputs": [
        {
          "output_type": "stream",
          "name": "stdout",
          "text": [
            "   Pregnancies  Glucose  BloodPressure  SkinThickness  Insulin   BMI  \\\n",
            "0            6      148             72             35        0  33.6   \n",
            "1            1       85             66             29        0  26.6   \n",
            "2            8      183             64              0        0  23.3   \n",
            "3            1       89             66             23       94  28.1   \n",
            "4            0      137             40             35      168  43.1   \n",
            "\n",
            "   DiabetesPedigreeFunction  Age  Outcome  \n",
            "0                     0.627   50        1  \n",
            "1                     0.351   31        0  \n",
            "2                     0.672   32        1  \n",
            "3                     0.167   21        0  \n",
            "4                     2.288   33        1  \n"
          ]
        }
      ]
    },
    {
      "cell_type": "markdown",
      "source": [
        "## Step 2: Data Preprocessing — Handling Missing Values, Splitting, and Scaling\n",
        "\n",
        "In this step, we:\n",
        "- Replace biologically implausible zero values with missing values (NaN) in specific columns,\n",
        "- Split the dataset into training and test sets to prevent data leakage,\n",
        "- Impute missing values using the median value (fitted only on the training set),\n",
        "- Scale the features using standardization."
      ],
      "metadata": {
        "id": "-WaTWvsyDiUN"
      }
    },
    {
      "cell_type": "code",
      "source": [
        "from sklearn.impute import SimpleImputer\n",
        "from sklearn.model_selection import train_test_split\n",
        "from sklearn.preprocessing import StandardScaler\n",
        "import numpy as np\n",
        "\n",
        "# Step 1-3: Load and replace zeros with NaN (same as your code)\n",
        "columns_to_check = ['Glucose', 'BloodPressure', 'SkinThickness', 'Insulin', 'BMI']\n",
        "df[columns_to_check] = df[columns_to_check].replace(0, np.nan)\n",
        "\n",
        "# Step 4: Separate features and target before imputation and scaling\n",
        "X = df.drop('Outcome', axis=1)\n",
        "y = df['Outcome']\n",
        "\n",
        "# Step 5: Split the data first to avoid data leakage\n",
        "X_train, X_test, y_train, y_test = train_test_split(X, y, test_size=0.2, random_state=42)\n",
        "\n",
        "# Step 6: Impute missing values using median imputer fitted on training data\n",
        "imputer = SimpleImputer(strategy='median')\n",
        "X_train_imputed = imputer.fit_transform(X_train)\n",
        "X_test_imputed = imputer.transform(X_test)\n",
        "\n",
        "# Step 7: Scale features using StandardScaler fitted on training data\n",
        "scaler = StandardScaler()\n",
        "X_train_scaled = scaler.fit_transform(X_train_imputed)\n",
        "X_test_scaled = scaler.transform(X_test_imputed)\n",
        "\n",
        "# Optional: Confirm shapes\n",
        "print(\"Training data shape:\", X_train_scaled.shape)\n",
        "print(\"Test data shape:\", X_test_scaled.shape)"
      ],
      "metadata": {
        "colab": {
          "base_uri": "https://localhost:8080/"
        },
        "id": "x8-3iWIClgHd",
        "outputId": "409a9ef8-001f-4a8a-8b66-bb934b62171c"
      },
      "execution_count": null,
      "outputs": [
        {
          "output_type": "stream",
          "name": "stdout",
          "text": [
            "Training data shape: (614, 8)\n",
            "Test data shape: (154, 8)\n"
          ]
        }
      ]
    },
    {
      "cell_type": "markdown",
      "source": [
        "## Step 3: Exporting Preprocessed Data to MATLAB `.mat` Format"
      ],
      "metadata": {
        "id": "SyT5mp_mIue5"
      }
    },
    {
      "cell_type": "code",
      "source": [
        "from scipy.io import savemat\n",
        "import numpy as np\n",
        "\n",
        "# Combine features and target into one array (last column is target)\n",
        "data_for_matlab = np.hstack((X_train_scaled, y_train.values.reshape(-1, 1)))\n",
        "test_data_for_matlab = np.hstack((X_test_scaled, y_test.values.reshape(-1, 1)))\n",
        "\n",
        "# Save to .mat file\n",
        "savemat(\"diabetes_train.mat\", {\"data\": data_for_matlab})\n",
        "savemat(\"diabetes_test.mat\", {\"data\": test_data_for_matlab})"
      ],
      "metadata": {
        "id": "wfR9WenpRVGq"
      },
      "execution_count": null,
      "outputs": []
    },
    {
      "cell_type": "markdown",
      "source": [
        "## Step 4: Implementing and Evaluating an MLP Neural Network with PyTorch\n",
        "\n",
        "In this step, we implement, train, and evaluate a Multi-Layer Perceptron (MLP) neural network for binary diabetes classification using PyTorch. We also visualize the training loss curve and compute classification metrics on the test set."
      ],
      "metadata": {
        "id": "mPZoFdDRQN3_"
      }
    },
    {
      "cell_type": "code",
      "source": [
        "import torch\n",
        "import torch.nn as nn\n",
        "import torch.optim as optim\n",
        "from sklearn.metrics import classification_report, confusion_matrix\n",
        "import matplotlib.pyplot as plt\n",
        "import numpy as np\n",
        "\n",
        "# Define the neural network architecture for binary classification\n",
        "class DiabetesClassificationModel(nn.Module):\n",
        "    def __init__(self, input_dim):\n",
        "        super(DiabetesClassificationModel, self).__init__()\n",
        "        self.fc1 = nn.Linear(input_dim, 128)  # First fully connected layer\n",
        "        self.fc2 = nn.Linear(128, 64)         # Second fully connected layer\n",
        "        self.fc3 = nn.Linear(64, 1)           # Output layer, 1 output for binary classification\n",
        "\n",
        "    def forward(self, x):\n",
        "        x = torch.relu(self.fc1(x))   # Apply ReLU activation after the first layer\n",
        "        x = torch.relu(self.fc2(x))   # Apply ReLU activation after the second layer\n",
        "        x = torch.sigmoid(self.fc3(x))  # Sigmoid activation for binary classification\n",
        "        return x\n",
        "\n",
        "# Initialize the model (assuming the input dimension is the number of features)\n",
        "input_dim = X_train_scaled.shape[1]  # Number of features in your dataset\n",
        "output_dim = 1  # Binary output: diabetes or no diabetes (0 or 1)\n",
        "\n",
        "device = torch.device('cuda' if torch.cuda.is_available() else 'cpu')\n",
        "model = DiabetesClassificationModel(input_dim).to(device)\n",
        "\n",
        "# Print model architecture\n",
        "print(model)\n",
        "\n",
        "# Training Parameters\n",
        "n_epochs = 50\n",
        "learning_rates = [1, 1e-3, 1e-8]\n",
        "\n",
        "# Optimizer and loss function\n",
        "optimizer = optim.Adam(model.parameters(), lr=learning_rates[1])\n",
        "criterion = nn.BCELoss()  # Binary Cross-Entropy loss\n",
        "\n",
        "# Convert data to torch tensors\n",
        "X_train_tensor = torch.tensor(X_train_scaled, dtype=torch.float32).to(device)\n",
        "y_train_tensor = torch.tensor(y_train.values, dtype=torch.float32).view(-1, 1).to(device)\n",
        "X_test_tensor = torch.tensor(X_test_scaled, dtype=torch.float32).to(device)\n",
        "y_test_tensor = torch.tensor(y_test.values, dtype=torch.float32).view(-1, 1).to(device)\n",
        "\n",
        "# Training loop\n",
        "train_losses = []\n",
        "for epoch in range(n_epochs):\n",
        "    model.train()\n",
        "    optimizer.zero_grad()\n",
        "\n",
        "    # Forward pass\n",
        "    y_pred = model(X_train_tensor)\n",
        "    loss = criterion(y_pred, y_train_tensor)\n",
        "\n",
        "    # Backward pass\n",
        "    loss.backward()\n",
        "    optimizer.step()\n",
        "\n",
        "    # Store the training loss\n",
        "    train_losses.append(loss.item())\n",
        "\n",
        "    # Print loss every 10 epochs\n",
        "    if (epoch + 1) % 100 == 0:\n",
        "        print(f\"Epoch [{epoch+1}/{n_epochs}], Loss: {loss.item():.4f}\")\n",
        "\n",
        "# Evaluation\n",
        "model.eval()\n",
        "\n",
        "# Predict on test data\n",
        "with torch.no_grad():\n",
        "    y_pred_test = model(X_test_tensor)\n",
        "    y_pred_test = (y_pred_test > 0.5).float()  # Convert predictions to binary (0 or 1)\n",
        "\n",
        "# Optional: Plot training loss curve\n",
        "plt.plot(range(n_epochs), train_losses)\n",
        "plt.title(\"Training Loss\")\n",
        "plt.xlabel(\"Epochs\")\n",
        "plt.ylabel(\"Loss\")\n",
        "plt.show()"
      ],
      "metadata": {
        "colab": {
          "base_uri": "https://localhost:8080/",
          "height": 559
        },
        "id": "FHjL5Q3m1RrY",
        "outputId": "5876f13b-cc23-4716-ab04-f5c0d60a9d7e"
      },
      "execution_count": null,
      "outputs": [
        {
          "output_type": "stream",
          "name": "stdout",
          "text": [
            "DiabetesClassificationModel(\n",
            "  (fc1): Linear(in_features=8, out_features=128, bias=True)\n",
            "  (fc2): Linear(in_features=128, out_features=64, bias=True)\n",
            "  (fc3): Linear(in_features=64, out_features=1, bias=True)\n",
            ")\n"
          ]
        },
        {
          "output_type": "display_data",
          "data": {
            "text/plain": [
              "<Figure size 640x480 with 1 Axes>"
            ],
            "image/png": "[encoded data removed]"
          },
          "metadata": {}
        }
      ]
    },
    {
      "cell_type": "code",
      "source": [
        "# Print evaluation metrics\n",
        "print(\"\\nClassification Report:\")\n",
        "print(classification_report(y_test_tensor.cpu(), y_pred_test.cpu()))\n",
        "# Compute confusion matrix\n",
        "cm = confusion_matrix(y_test_tensor.cpu(), y_pred_test.cpu())\n",
        "\n",
        "print(\"\\nConfusion Matrix:\")\n",
        "print(cm)\n",
        "\n",
        "# Extract values\n",
        "TN, FP, FN, TP = cm.ravel()\n",
        "\n",
        "# Calculate metrics\n",
        "sensitivity = TP / (TP + FN) if (TP + FN) != 0 else 0\n",
        "specificity = TN / (TN + FP) if (TN + FP) != 0 else 0\n",
        "\n",
        "print(f\"\\nSensitivity (Recall / True Positive Rate): {sensitivity:.4f}\")\n",
        "print(f\"Specificity (True Negative Rate): {specificity:.4f}\")"
      ],
      "metadata": {
        "colab": {
          "base_uri": "https://localhost:8080/"
        },
        "id": "ulfUxLjw3FVm",
        "outputId": "677e4e92-40d8-471e-d88a-618aebbf7fd2"
      },
      "execution_count": null,
      "outputs": [
        {
          "output_type": "stream",
          "name": "stdout",
          "text": [
            "\n",
            "Classification Report:\n",
            "              precision    recall  f1-score   support\n",
            "\n",
            "         0.0       0.81      0.86      0.83        99\n",
            "         1.0       0.71      0.64      0.67        55\n",
            "\n",
            "    accuracy                           0.78       154\n",
            "   macro avg       0.76      0.75      0.75       154\n",
            "weighted avg       0.78      0.78      0.78       154\n",
            "\n",
            "\n",
            "Confusion Matrix:\n",
            "[[85 14]\n",
            " [20 35]]\n",
            "\n",
            "Sensitivity (Recall / True Positive Rate): 0.6364\n",
            "Specificity (True Negative Rate): 0.8586\n"
          ]
        }
      ]
    }
  ]
}